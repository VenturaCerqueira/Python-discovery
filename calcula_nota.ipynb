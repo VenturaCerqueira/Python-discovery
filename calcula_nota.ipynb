{
  "nbformat": 4,
  "nbformat_minor": 0,
  "metadata": {
    "colab": {
      "name": "calcula_nota.ipynb",
      "provenance": [],
      "collapsed_sections": [],
      "authorship_tag": "ABX9TyNg6JiDPAUMQ/qI1sJXVeZG",
      "include_colab_link": true
    },
    "kernelspec": {
      "name": "python3",
      "display_name": "Python 3"
    },
    "language_info": {
      "name": "python"
    }
  },
  "cells": [
    {
      "cell_type": "markdown",
      "metadata": {
        "id": "view-in-github",
        "colab_type": "text"
      },
      "source": [
        "<a href=\"https://colab.research.google.com/github/VenturaCerqueira/Python-discovery/blob/main/calcula_nota.ipynb\" target=\"_parent\"><img src=\"https://colab.research.google.com/assets/colab-badge.svg\" alt=\"Open In Colab\"/></a>"
      ]
    },
    {
      "cell_type": "code",
      "metadata": {
        "colab": {
          "base_uri": "https://localhost:8080/",
          "height": 350
        },
        "id": "ZnHaK8DjnA43",
        "outputId": "b7e07de5-b7bf-4607-837f-8a10b208f395"
      },
      "source": [
        "#Função par criar as barras\n",
        "def bar(bar):\n",
        "  print('=' * 30)    \n",
        " \n",
        "bar(bar)\n",
        "\n",
        "print('{:^30}'.format('BANCO'))\n",
        "\n",
        "bar(bar)\n",
        "\n",
        "valor = float(input('Qual Valor Deseja Sacar? R$ '))\n",
        "\n",
        "total = valor\n",
        "\n",
        "maior_ced = 200\n",
        "\n",
        "totCed = 0\n",
        "\n",
        "while True:\n",
        "\n",
        "  if total >= maior_ced:\n",
        "\n",
        "    total -= maior_ced\n",
        "\n",
        "    totCed += 1\n",
        "\n",
        "  else:\n",
        "\n",
        "    if totCed > 0:\n",
        "\n",
        "      print(f'Total de {totCed} Cédulas de R${maior_ced} ')\n",
        "\n",
        "    if maior_ced == 200:\n",
        "\n",
        "      maior_ced = 100\n",
        "\n",
        "    elif maior_ced == 100:\n",
        "\n",
        "      maior_ced = 50\n",
        "\n",
        "    elif maior_ced == 50:\n",
        "\n",
        "      maior_ced = 20\n",
        "\n",
        "    elif maior_ced == 20:\n",
        "\n",
        "      maior_ced = 10\n",
        "\n",
        "    elif maior_ced == 10:\n",
        "\n",
        "      maior_ced = 5\n",
        "\n",
        "    elif maior_ced == 5:\n",
        "\n",
        "      maior_ced = 2\n",
        "\n",
        "    totCed = 0\n",
        "\n",
        "    if total == 0:\n",
        "\n",
        "      break\n",
        "\n",
        "bar(bar)\n",
        "\n",
        "print('OBRIGADO POR USAR NOSSOS SERVIÇOS!! ')"
      ],
      "execution_count": 18,
      "outputs": [
        {
          "output_type": "stream",
          "name": "stdout",
          "text": [
            "==============================\n",
            "            BANCO             \n",
            "==============================\n",
            "Qual Valor Deseja Sacar? R$ 125.50\n",
            "Total de 1 Cédulas de R$100 \n",
            "Total de 1 Cédulas de R$20 \n",
            "Total de 1 Cédulas de R$5 \n"
          ]
        },
        {
          "output_type": "error",
          "ename": "KeyboardInterrupt",
          "evalue": "ignored",
          "traceback": [
            "\u001b[0;31m---------------------------------------------------------------------------\u001b[0m",
            "\u001b[0;31mKeyboardInterrupt\u001b[0m                         Traceback (most recent call last)",
            "\u001b[0;32m<ipython-input-18-922f7fd64d54>\u001b[0m in \u001b[0;36m<module>\u001b[0;34m()\u001b[0m\n\u001b[1;32m     19\u001b[0m \u001b[0;32mwhile\u001b[0m \u001b[0;32mTrue\u001b[0m\u001b[0;34m:\u001b[0m\u001b[0;34m\u001b[0m\u001b[0;34m\u001b[0m\u001b[0m\n\u001b[1;32m     20\u001b[0m \u001b[0;34m\u001b[0m\u001b[0m\n\u001b[0;32m---> 21\u001b[0;31m   \u001b[0;32mif\u001b[0m \u001b[0mtotal\u001b[0m \u001b[0;34m>=\u001b[0m \u001b[0mmaior_ced\u001b[0m\u001b[0;34m:\u001b[0m\u001b[0;34m\u001b[0m\u001b[0;34m\u001b[0m\u001b[0m\n\u001b[0m\u001b[1;32m     22\u001b[0m \u001b[0;34m\u001b[0m\u001b[0m\n\u001b[1;32m     23\u001b[0m     \u001b[0mtotal\u001b[0m \u001b[0;34m-=\u001b[0m \u001b[0mmaior_ced\u001b[0m\u001b[0;34m\u001b[0m\u001b[0;34m\u001b[0m\u001b[0m\n",
            "\u001b[0;31mKeyboardInterrupt\u001b[0m: "
          ]
        }
      ]
    }
  ]
}